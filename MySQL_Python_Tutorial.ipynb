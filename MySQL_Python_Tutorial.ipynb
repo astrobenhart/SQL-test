{
 "cells": [
  {
   "cell_type": "markdown",
   "metadata": {},
   "source": [
    "# Test MySQL/Python Database"
   ]
  },
  {
   "cell_type": "markdown",
   "metadata": {},
   "source": [
    "## Useful SQL commands\n",
    "1. \"CREATE DATABASE namedb\" - creates a database called namedb\n",
    "2. \"CREATE TABLE inventory (sku INTEGER PRIMARY KEY, name TEXT, quantity INTEGER)\" - creates a table called inventory and gives it columns called sku, which is given as the primary key and can only be an integer, name, the name of the product as text, and quantity, which can only be an integer.\n",
    "3. \"ALTER TABLE inventory ADD COLUMN link TEXT\" - if we want to add a new column with the web links to each item to our inventory.\n",
    "4. \"INSERT INTO inventory (sku, name, quantity, link, catagory) VALUES (sk1, name1, quantity1, link1, catagory1)\" - add an item (row) into these columns of inventory. This is actually done a little differently, you can see it below.\n",
    "5. \"SELECT * FROM inventory\" - select everything in inventory, or replace * with column name to select just that column.\n",
    "6. \"SELECT * FROM inventory WHERE catagory ='catagory1'\" - select all columns where the catagory is named 'catagory1'.\n",
    "7. \"SELECT * FROM inventory WHERE catagory LIKE '%cat%'\" - select all columns where the catagory contains the wildcard 'cat'.\n",
    "8. \"DELETE FROM inventory WHERE name LIKE '%name%'\" - delete all columns where the name contains the wildcard 'name'.\n",
    "9. \"UPDATE inventory SET quantity = '3' WHERE name = 'name'\" - update the quantity of the item 'name' to 3.\n",
    "10. \"SELECT * FROM inventory LIMIT 2\" - select all columns of first 2 rows in inventory\n",
    "11. \"SELECT * FROM inventory LIMIT 2 OFFSET 3\" - select all columns of rows 4 and 5 in inventory\n",
    "12. \"DROP DATABASE namedb\" - delete a database from MySQL\n",
    "13. \"SELECT users.name, products.name FROM users JOIN products ON users.fav = products.sku\" - take the names of users amd products and stick them together using fav and sku of user and products, respectively.\n",
    "14. \"SELECT users.name, products.name FROM users LEFT JOIN products ON users.fav = products.sku\" - Do the same as above but display all users\n",
    "15. \"SELECT users.name, products.name FROM users RIGHT JOIN products ON users.fav = products.sku\" - Do the same as 13, but show all products."
   ]
  },
  {
   "cell_type": "markdown",
   "metadata": {},
   "source": [
    "Import MySQL and login the the system MySQL server. Then create a database call storedb, this only has to be done once so is commented out below, if running for the first time, uncomment."
   ]
  },
  {
   "cell_type": "code",
   "execution_count": 6,
   "metadata": {},
   "outputs": [
    {
     "name": "stdout",
     "output_type": "stream",
     "text": [
      "<mysql.connector.connection_cext.CMySQLConnection object at 0x7f5d6abae898>\n"
     ]
    }
   ],
   "source": [
    "import mysql.connector as mysql\n",
    "\n",
    "mydb = mysql.connect(\n",
    "  host=\"localhost\",\n",
    "  user=\"root\",\n",
    "  #needs to be the actual password you setup for MySQL, if its the below, then good luck to ya.\n",
    "  passwd=\"andr0m3da\"\n",
    ")\n",
    "\n",
    "print(mydb)\n",
    "\n",
    "mycursor = mydb.cursor()\n",
    "\n",
    "# mycursor.execute(\"CREATE DATABASE storedb\")"
   ]
  },
  {
   "cell_type": "markdown",
   "metadata": {},
   "source": [
    "You might find that the code stops running giving you this error \"raise errors.ProgrammingError(\"Cursor is not connected\")\", this is common when playing around with the code. You probably just need to reconnect the cursor by running the code below"
   ]
  },
  {
   "cell_type": "code",
   "execution_count": 7,
   "metadata": {},
   "outputs": [],
   "source": [
    "mydb = mysql.connect(\n",
    "  host=\"localhost\",\n",
    "  user=\"root\",\n",
    "  passwd=\"andr0m3da\",\n",
    "  database=\"storedb\"\n",
    ")\n",
    "mycursor = mydb.cursor()"
   ]
  },
  {
   "cell_type": "markdown",
   "metadata": {},
   "source": [
    "print all db on system"
   ]
  },
  {
   "cell_type": "code",
   "execution_count": 8,
   "metadata": {},
   "outputs": [
    {
     "name": "stdout",
     "output_type": "stream",
     "text": [
      "('information_schema',)\n",
      "('mysql',)\n",
      "('performance_schema',)\n",
      "('storedb',)\n",
      "('sys',)\n"
     ]
    }
   ],
   "source": [
    "mycursor.execute(\"SHOW DATABASES\")\n",
    "\n",
    "for x in mycursor:\n",
    "  print(x)"
   ]
  },
  {
   "cell_type": "markdown",
   "metadata": {},
   "source": [
    "Now that storedb is made we can just log straight in by inserting database=\"storedb\" into our connect step"
   ]
  },
  {
   "cell_type": "code",
   "execution_count": 9,
   "metadata": {
    "scrolled": true
   },
   "outputs": [],
   "source": [
    "mydb = mysql.connect(\n",
    "  host=\"localhost\",\n",
    "  user=\"root\",\n",
    "  passwd=\"password\",\n",
    "  database=\"storedb\"\n",
    ")\n",
    "\n",
    "mycursor = mydb.cursor()\n",
    "\n",
    "mycursor.execute(\"CREATE TABLE inventory (sku INTEGER PRIMARY KEY, name TEXT, quantity INTEGER)\")"
   ]
  },
  {
   "cell_type": "markdown",
   "metadata": {},
   "source": [
    "Add a new column for the web address"
   ]
  },
  {
   "cell_type": "code",
   "execution_count": 10,
   "metadata": {},
   "outputs": [],
   "source": [
    "mycursor.execute(\"ALTER TABLE inventory ADD COLUMN catagory TEXT\")\n",
    "mycursor.execute(\"ALTER TABLE inventory ADD COLUMN link TEXT\")"
   ]
  },
  {
   "cell_type": "markdown",
   "metadata": {},
   "source": [
    "Now we want to add some data to our inventory"
   ]
  },
  {
   "cell_type": "code",
   "execution_count": 11,
   "metadata": {},
   "outputs": [
    {
     "ename": "IntegrityError",
     "evalue": "1062 (23000): Duplicate entry '1' for key 'PRIMARY'",
     "output_type": "error",
     "traceback": [
      "\u001b[0;31m---------------------------------------------------------------------------\u001b[0m",
      "\u001b[0;31mMySQLInterfaceError\u001b[0m                       Traceback (most recent call last)",
      "\u001b[0;32m/home/bhart/anaconda3/lib/python3.6/site-packages/mysql/connector/connection_cext.py\u001b[0m in \u001b[0;36mcmd_query\u001b[0;34m(self, query, raw, buffered, raw_as_string)\u001b[0m\n\u001b[1;32m    391\u001b[0m                                \u001b[0mraw\u001b[0m\u001b[0;34m=\u001b[0m\u001b[0mraw\u001b[0m\u001b[0;34m,\u001b[0m \u001b[0mbuffered\u001b[0m\u001b[0;34m=\u001b[0m\u001b[0mbuffered\u001b[0m\u001b[0;34m,\u001b[0m\u001b[0;34m\u001b[0m\u001b[0;34m\u001b[0m\u001b[0m\n\u001b[0;32m--> 392\u001b[0;31m                                raw_as_string=raw_as_string)\n\u001b[0m\u001b[1;32m    393\u001b[0m         \u001b[0;32mexcept\u001b[0m \u001b[0mMySQLInterfaceError\u001b[0m \u001b[0;32mas\u001b[0m \u001b[0mexc\u001b[0m\u001b[0;34m:\u001b[0m\u001b[0;34m\u001b[0m\u001b[0;34m\u001b[0m\u001b[0m\n",
      "\u001b[0;31mMySQLInterfaceError\u001b[0m: Duplicate entry '1' for key 'PRIMARY'",
      "\nDuring handling of the above exception, another exception occurred:\n",
      "\u001b[0;31mIntegrityError\u001b[0m                            Traceback (most recent call last)",
      "\u001b[0;32m<ipython-input-11-7501a6d8c5da>\u001b[0m in \u001b[0;36m<module>\u001b[0;34m()\u001b[0m\n\u001b[1;32m      2\u001b[0m \u001b[0msql\u001b[0m \u001b[0;34m=\u001b[0m \u001b[0;34m\"INSERT INTO inventory (sku, name, quantity, link, catagory) VALUES (%s, %s, %s, %s, %s)\"\u001b[0m\u001b[0;34m\u001b[0m\u001b[0;34m\u001b[0m\u001b[0m\n\u001b[1;32m      3\u001b[0m \u001b[0mval\u001b[0m \u001b[0;34m=\u001b[0m \u001b[0;34m(\u001b[0m\u001b[0;34m\"1\"\u001b[0m\u001b[0;34m,\u001b[0m \u001b[0;34m\"100% cotton t-shirt black - L\"\u001b[0m\u001b[0;34m,\u001b[0m \u001b[0;34m\"3\"\u001b[0m\u001b[0;34m,\u001b[0m \u001b[0;34m'www.link1.ob.fake'\u001b[0m\u001b[0;34m,\u001b[0m \u001b[0;34m\"Tees - women\"\u001b[0m\u001b[0;34m)\u001b[0m\u001b[0;34m\u001b[0m\u001b[0;34m\u001b[0m\u001b[0m\n\u001b[0;32m----> 4\u001b[0;31m \u001b[0mmycursor\u001b[0m\u001b[0;34m.\u001b[0m\u001b[0mexecute\u001b[0m\u001b[0;34m(\u001b[0m\u001b[0msql\u001b[0m\u001b[0;34m,\u001b[0m \u001b[0mval\u001b[0m\u001b[0;34m)\u001b[0m\u001b[0;34m\u001b[0m\u001b[0;34m\u001b[0m\u001b[0m\n\u001b[0m\u001b[1;32m      5\u001b[0m \u001b[0mmydb\u001b[0m\u001b[0;34m.\u001b[0m\u001b[0mcommit\u001b[0m\u001b[0;34m(\u001b[0m\u001b[0;34m)\u001b[0m\u001b[0;34m\u001b[0m\u001b[0;34m\u001b[0m\u001b[0m\n\u001b[1;32m      6\u001b[0m \u001b[0;34m\u001b[0m\u001b[0m\n",
      "\u001b[0;32m/home/bhart/anaconda3/lib/python3.6/site-packages/mysql/connector/cursor_cext.py\u001b[0m in \u001b[0;36mexecute\u001b[0;34m(self, operation, params, multi)\u001b[0m\n\u001b[1;32m    262\u001b[0m             result = self._cnx.cmd_query(stmt, raw=self._raw,\n\u001b[1;32m    263\u001b[0m                                          \u001b[0mbuffered\u001b[0m\u001b[0;34m=\u001b[0m\u001b[0mself\u001b[0m\u001b[0;34m.\u001b[0m\u001b[0m_buffered\u001b[0m\u001b[0;34m,\u001b[0m\u001b[0;34m\u001b[0m\u001b[0;34m\u001b[0m\u001b[0m\n\u001b[0;32m--> 264\u001b[0;31m                                          raw_as_string=self._raw_as_string)\n\u001b[0m\u001b[1;32m    265\u001b[0m         \u001b[0;32mexcept\u001b[0m \u001b[0mMySQLInterfaceError\u001b[0m \u001b[0;32mas\u001b[0m \u001b[0mexc\u001b[0m\u001b[0;34m:\u001b[0m\u001b[0;34m\u001b[0m\u001b[0;34m\u001b[0m\u001b[0m\n\u001b[1;32m    266\u001b[0m             raise errors.get_mysql_exception(msg=exc.msg, errno=exc.errno,\n",
      "\u001b[0;32m/home/bhart/anaconda3/lib/python3.6/site-packages/mysql/connector/connection_cext.py\u001b[0m in \u001b[0;36mcmd_query\u001b[0;34m(self, query, raw, buffered, raw_as_string)\u001b[0m\n\u001b[1;32m    393\u001b[0m         \u001b[0;32mexcept\u001b[0m \u001b[0mMySQLInterfaceError\u001b[0m \u001b[0;32mas\u001b[0m \u001b[0mexc\u001b[0m\u001b[0;34m:\u001b[0m\u001b[0;34m\u001b[0m\u001b[0;34m\u001b[0m\u001b[0m\n\u001b[1;32m    394\u001b[0m             raise errors.get_mysql_exception(exc.errno, msg=exc.msg,\n\u001b[0;32m--> 395\u001b[0;31m                                              sqlstate=exc.sqlstate)\n\u001b[0m\u001b[1;32m    396\u001b[0m         \u001b[0;32mexcept\u001b[0m \u001b[0mAttributeError\u001b[0m\u001b[0;34m:\u001b[0m\u001b[0;34m\u001b[0m\u001b[0;34m\u001b[0m\u001b[0m\n\u001b[1;32m    397\u001b[0m             \u001b[0;32mif\u001b[0m \u001b[0mself\u001b[0m\u001b[0;34m.\u001b[0m\u001b[0m_unix_socket\u001b[0m\u001b[0;34m:\u001b[0m\u001b[0;34m\u001b[0m\u001b[0;34m\u001b[0m\u001b[0m\n",
      "\u001b[0;31mIntegrityError\u001b[0m: 1062 (23000): Duplicate entry '1' for key 'PRIMARY'"
     ]
    }
   ],
   "source": [
    "# maintain %s even for ints, it is SQL not python\n",
    "sql = \"INSERT INTO inventory (sku, name, quantity, link, catagory) VALUES (%s, %s, %s, %s, %s)\"\n",
    "val = (\"1\", \"100% cotton t-shirt black - L\", \"3\", 'www.link1.ob.fake', \"Tees - women\")\n",
    "mycursor.execute(sql, val)\n",
    "mydb.commit()\n",
    "\n",
    "print(mycursor.rowcount, \"record inserted.\")"
   ]
  },
  {
   "cell_type": "markdown",
   "metadata": {},
   "source": [
    "That was pretty slow, lets add multiple lines in at once"
   ]
  },
  {
   "cell_type": "code",
   "execution_count": 10,
   "metadata": {},
   "outputs": [
    {
     "ename": "NameError",
     "evalue": "name 'sql' is not defined",
     "output_type": "error",
     "traceback": [
      "\u001b[0;31m---------------------------------------------------------------------------\u001b[0m",
      "\u001b[0;31mNameError\u001b[0m                                 Traceback (most recent call last)",
      "\u001b[0;32m<ipython-input-10-e62beec3d9cd>\u001b[0m in \u001b[0;36m<module>\u001b[0;34m()\u001b[0m\n\u001b[1;32m      2\u001b[0m       \u001b[0;34m(\u001b[0m\u001b[0;34m\"3\"\u001b[0m\u001b[0;34m,\u001b[0m \u001b[0;34m\"100% cotton t-shirt black - XL\"\u001b[0m\u001b[0;34m,\u001b[0m \u001b[0;34m\"14\"\u001b[0m\u001b[0;34m,\u001b[0m \u001b[0;34m\"www.link3.ob.fake\"\u001b[0m\u001b[0;34m,\u001b[0m \u001b[0;34m\"Tees - women\"\u001b[0m\u001b[0;34m)\u001b[0m\u001b[0;34m,\u001b[0m\u001b[0;34m\u001b[0m\u001b[0;34m\u001b[0m\u001b[0m\n\u001b[1;32m      3\u001b[0m       (\"4\", \"100% cotton t-shirt black - XXL\", \"9\", \"www.link4.ob.fake\", \"Tees - women\")]\n\u001b[0;32m----> 4\u001b[0;31m \u001b[0mmycursor\u001b[0m\u001b[0;34m.\u001b[0m\u001b[0mexecutemany\u001b[0m\u001b[0;34m(\u001b[0m\u001b[0msql\u001b[0m\u001b[0;34m,\u001b[0m \u001b[0mval\u001b[0m\u001b[0;34m)\u001b[0m\u001b[0;34m\u001b[0m\u001b[0;34m\u001b[0m\u001b[0m\n\u001b[0m\u001b[1;32m      5\u001b[0m \u001b[0mmydb\u001b[0m\u001b[0;34m.\u001b[0m\u001b[0mcommit\u001b[0m\u001b[0;34m(\u001b[0m\u001b[0;34m)\u001b[0m\u001b[0;34m\u001b[0m\u001b[0;34m\u001b[0m\u001b[0m\n\u001b[1;32m      6\u001b[0m \u001b[0;34m\u001b[0m\u001b[0m\n",
      "\u001b[0;31mNameError\u001b[0m: name 'sql' is not defined"
     ]
    }
   ],
   "source": [
    "val = [(\"2\", \"100% cotton t-shirt black - M\", \"12\", \"www.link2.ob.fake\", \"Tees - women\"),\n",
    "      (\"3\", \"100% cotton t-shirt black - XL\", \"14\", \"www.link3.ob.fake\", \"Tees - women\"),\n",
    "      (\"4\", \"100% cotton t-shirt black - XXL\", \"9\", \"www.link4.ob.fake\", \"Tees - women\")]\n",
    "mycursor.executemany(sql, val)\n",
    "mydb.commit()\n",
    "\n",
    "print(mycursor.rowcount, \"was inserted.\")"
   ]
  },
  {
   "cell_type": "markdown",
   "metadata": {},
   "source": [
    "Often after adding a few items it is useful to check the items id/SKU, so lets add a new item and do that."
   ]
  },
  {
   "cell_type": "code",
   "execution_count": 12,
   "metadata": {},
   "outputs": [
    {
     "ename": "SyntaxError",
     "evalue": "unexpected EOF while parsing (<ipython-input-12-ce1bb0844e81>, line 6)",
     "output_type": "error",
     "traceback": [
      "\u001b[0;36m  File \u001b[0;32m\"<ipython-input-12-ce1bb0844e81>\"\u001b[0;36m, line \u001b[0;32m6\u001b[0m\n\u001b[0;31m    print(\"last added SKU: \", mycursor.lastrowid\u001b[0m\n\u001b[0m                                                ^\u001b[0m\n\u001b[0;31mSyntaxError\u001b[0m\u001b[0;31m:\u001b[0m unexpected EOF while parsing\n"
     ]
    }
   ],
   "source": [
    "sql = \"INSERT INTO inventory (sku, name, quantity, link, catagory) VALUES (%s, %s, %s, %s, %s)\"\n",
    "val = (\"5\", \"black wallet\", \"10\", 'www.link5.ob.fake', \"Accessory - Wallets and Purrses\")\n",
    "mycursor.execute(sql, val)\n",
    "mydb.commit()\n",
    "\n",
    "print(\"last added SKU: \", mycursor.lastrowid"
   ]
  },
  {
   "cell_type": "markdown",
   "metadata": {},
   "source": [
    "lets now have a look at our whole table to get an overview"
   ]
  },
  {
   "cell_type": "code",
   "execution_count": 13,
   "metadata": {},
   "outputs": [
    {
     "name": "stdout",
     "output_type": "stream",
     "text": [
      "(1, '100% cotton t-shirt black - L', 1, 'Tees - women', 'www.link1.ob.fake')\n",
      "(2, '100% cotton t-shirt black - M', 1, 'Tees - women', 'www.link2.ob.fake')\n",
      "(5, 'black wallet', 3, 'Accessory - Wallets and Purrses', 'www.link5.ob.fake')\n"
     ]
    }
   ],
   "source": [
    "mycursor.execute(\"SELECT * FROM inventory\")\n",
    "\n",
    "myresults = mycursor.fetchall()\n",
    "\n",
    "for x in myresults:\n",
    "    print(x)"
   ]
  },
  {
   "cell_type": "markdown",
   "metadata": {},
   "source": [
    "That's great and all but a bit messy, really we just want to see the SKU, name, and quantity"
   ]
  },
  {
   "cell_type": "code",
   "execution_count": 17,
   "metadata": {},
   "outputs": [
    {
     "name": "stdout",
     "output_type": "stream",
     "text": [
      "(1, '100% cotton t-shirt black - L', 1)\n",
      "(2, '100% cotton t-shirt black - M', 1)\n",
      "(5, 'black wallet', 3)\n"
     ]
    }
   ],
   "source": [
    "mycursor.execute(\"SELECT sku, name, quantity FROM inventory\")\n",
    "\n",
    "myresults = mycursor.fetchall()\n",
    "\n",
    "for x in myresults:\n",
    "    print(x)"
   ]
  },
  {
   "cell_type": "markdown",
   "metadata": {},
   "source": [
    "Sometimes it is nice to just see one row, especially if you are unfamiliar with the data"
   ]
  },
  {
   "cell_type": "code",
   "execution_count": 18,
   "metadata": {},
   "outputs": [
    {
     "name": "stdout",
     "output_type": "stream",
     "text": [
      "(1, '100% cotton t-shirt black - L', 1, 'Tees - women', 'www.link1.ob.fake')\n"
     ]
    }
   ],
   "source": [
    "mycursor.execute(\"SELECT * FROM inventory\")\n",
    "\n",
    "myresult = mycursor.fetchone()\n",
    "\n",
    "print(myresult)"
   ]
  },
  {
   "cell_type": "markdown",
   "metadata": {},
   "source": [
    "Now for some really interesting stuff, we want all the Wallets and Purrses in our inventory. We can use the catagory column we added earlier to help us here"
   ]
  },
  {
   "cell_type": "code",
   "execution_count": 27,
   "metadata": {},
   "outputs": [
    {
     "name": "stdout",
     "output_type": "stream",
     "text": [
      "(5, 'black wallet', 10, 'Accessory - Wallets and Purrses', 'www.link5.ob.fake')\n"
     ]
    }
   ],
   "source": [
    "sql = \"SELECT * FROM inventory WHERE catagory ='Accessory - Wallets and Purrses'\"\n",
    "mycursor.execute(sql)\n",
    "myresult = mycursor.fetchall()\n",
    "\n",
    "for x in myresult:\n",
    "    print(x)"
   ]
  },
  {
   "cell_type": "markdown",
   "metadata": {},
   "source": [
    "If we just want to look at the shirts in our inventory we can just search for the wildcard 'Tees' in our catagory"
   ]
  },
  {
   "cell_type": "code",
   "execution_count": 28,
   "metadata": {},
   "outputs": [
    {
     "name": "stdout",
     "output_type": "stream",
     "text": [
      "(1, '100% cotton t-shirt black - L', 1, 'Tees - women', 'www.link1.ob.fake')\n",
      "(2, '100% cotton t-shirt black - M', 1, 'Tees - women', 'www.link2.ob.fake')\n",
      "(3, '100% cotton t-shirt black - XL', 1, 'Tees - women', 'www.link3.ob.fake')\n",
      "(4, '100% cotton t-shirt black - XXL', 1, 'Tees - women', 'www.link4.ob.fake')\n"
     ]
    }
   ],
   "source": [
    "sql = \"SELECT * FROM inventory WHERE catagory LIKE '%Tees%'\"\n",
    "mycursor.execute(sql)\n",
    "myresult = mycursor.fetchall()\n",
    "\n",
    "for x in myresult:\n",
    "    print(x)"
   ]
  },
  {
   "cell_type": "markdown",
   "metadata": {},
   "source": [
    "When query values are provided by the user, you should escape the values.\n",
    "This is to prevent SQL injections, which is a common web hacking technique to destroy or misuse your database.\n",
    "The mysql.connector module has methods to escape query values. For example, use the placeholder %s"
   ]
  },
  {
   "cell_type": "code",
   "execution_count": 29,
   "metadata": {},
   "outputs": [
    {
     "name": "stdout",
     "output_type": "stream",
     "text": [
      "(5, 'black wallet', 10, 'Accessory - Wallets and Purrses', 'www.link5.ob.fake')\n"
     ]
    }
   ],
   "source": [
    "sql = \"SELECT * FROM inventory WHERE catagory =%s\"\n",
    "val = ('Accessory - Wallets and Purrses',)\n",
    "mycursor.execute(sql, val)\n",
    "myresult = mycursor.fetchall()\n",
    "\n",
    "for x in myresult:\n",
    "    print(x)"
   ]
  },
  {
   "cell_type": "markdown",
   "metadata": {},
   "source": [
    "Selecting things is great but we often want to sort them, this is a bit of a lame example as there is only two catagories but you get the idea, make it more complicated if you want."
   ]
  },
  {
   "cell_type": "code",
   "execution_count": 30,
   "metadata": {},
   "outputs": [
    {
     "name": "stdout",
     "output_type": "stream",
     "text": [
      "(5, 'black wallet', 10, 'Accessory - Wallets and Purrses', 'www.link5.ob.fake')\n",
      "(1, '100% cotton t-shirt black - L', 1, 'Tees - women', 'www.link1.ob.fake')\n",
      "(2, '100% cotton t-shirt black - M', 1, 'Tees - women', 'www.link2.ob.fake')\n",
      "(3, '100% cotton t-shirt black - XL', 1, 'Tees - women', 'www.link3.ob.fake')\n",
      "(4, '100% cotton t-shirt black - XXL', 1, 'Tees - women', 'www.link4.ob.fake')\n"
     ]
    }
   ],
   "source": [
    "sql = \"SELECT * FROM inventory ORDER BY catagory\"\n",
    "mycursor.execute(sql)\n",
    "myresult = mycursor.fetchall()\n",
    "\n",
    "for x in myresult:\n",
    "    print(x)"
   ]
  },
  {
   "cell_type": "markdown",
   "metadata": {},
   "source": [
    "To sort in decending order just add DESC at the end of the SQL statement"
   ]
  },
  {
   "cell_type": "code",
   "execution_count": 31,
   "metadata": {},
   "outputs": [
    {
     "name": "stdout",
     "output_type": "stream",
     "text": [
      "(1, '100% cotton t-shirt black - L', 1, 'Tees - women', 'www.link1.ob.fake')\n",
      "(2, '100% cotton t-shirt black - M', 1, 'Tees - women', 'www.link2.ob.fake')\n",
      "(3, '100% cotton t-shirt black - XL', 1, 'Tees - women', 'www.link3.ob.fake')\n",
      "(4, '100% cotton t-shirt black - XXL', 1, 'Tees - women', 'www.link4.ob.fake')\n",
      "(5, 'black wallet', 10, 'Accessory - Wallets and Purrses', 'www.link5.ob.fake')\n"
     ]
    }
   ],
   "source": [
    "sql = \"SELECT * FROM inventory ORDER BY catagory DESC\"\n",
    "mycursor.execute(sql)\n",
    "myresult = mycursor.fetchall()\n",
    "\n",
    "for x in myresult:\n",
    "    print(x)"
   ]
  },
  {
   "cell_type": "markdown",
   "metadata": {},
   "source": [
    "For disconntinued products we may want to remove them from our inventory, I actually don't recommend this and would instead set the quantity to 0, but it is still important to know."
   ]
  },
  {
   "cell_type": "code",
   "execution_count": 32,
   "metadata": {},
   "outputs": [
    {
     "name": "stdout",
     "output_type": "stream",
     "text": [
      "1 record(s) deleted\n"
     ]
    }
   ],
   "source": [
    "sql = \"DELETE FROM inventory WHERE name LIKE '%XXL%'\"\n",
    "mycursor.execute(sql)\n",
    "mydb.commit()\n",
    "\n",
    "print(mycursor.rowcount, \"record(s) deleted\")"
   ]
  },
  {
   "cell_type": "markdown",
   "metadata": {},
   "source": [
    "We should properly write it this way to prevent SQL injection too."
   ]
  },
  {
   "cell_type": "code",
   "execution_count": 34,
   "metadata": {},
   "outputs": [
    {
     "name": "stdout",
     "output_type": "stream",
     "text": [
      "0 record(s) deleted\n"
     ]
    }
   ],
   "source": [
    "sql = \"DELETE FROM inventory WHERE name LIKE %s\"\n",
    "val = ('%XXL%',)\n",
    "mycursor.execute(sql, val)\n",
    "mydb.commit()\n",
    "\n",
    "print(mycursor.rowcount, \"record(s) deleted\")"
   ]
  },
  {
   "cell_type": "markdown",
   "metadata": {},
   "source": [
    "We can also delete whole tables if we want, useful if creating temporary subsets and you don't want to keep them forever. I've commented them out because I don't actually want to delete the table."
   ]
  },
  {
   "cell_type": "code",
   "execution_count": null,
   "metadata": {},
   "outputs": [],
   "source": [
    "#sql = \"DROP TABLE inventory\"\n",
    "#mycursor.execute(sql)"
   ]
  },
  {
   "cell_type": "markdown",
   "metadata": {},
   "source": [
    "We can also delete tables only if they exist which can be nice if you don't want error returns"
   ]
  },
  {
   "cell_type": "code",
   "execution_count": null,
   "metadata": {},
   "outputs": [],
   "source": [
    "#sql = \"DROP TABLE IF EXISTS inventory\"\n",
    "#mycursor.execute(sql)"
   ]
  },
  {
   "cell_type": "markdown",
   "metadata": {},
   "source": [
    "Probably one of the most used terms in SQL is UPDATE, for the simple reson that you will be updating lots of things, like when a sale is made or items restocked the quantity will change"
   ]
  },
  {
   "cell_type": "code",
   "execution_count": 35,
   "metadata": {},
   "outputs": [
    {
     "name": "stdout",
     "output_type": "stream",
     "text": [
      "1 record(s) affected\n"
     ]
    }
   ],
   "source": [
    "sql = \"UPDATE inventory SET quantity = '3' WHERE name = 'black wallet'\"\n",
    "mycursor.execute(sql)\n",
    "mydb.commit()\n",
    "\n",
    "print(mycursor.rowcount, \"record(s) affected\")"
   ]
  },
  {
   "cell_type": "markdown",
   "metadata": {},
   "source": [
    "Now do it where no SQL injection can occur"
   ]
  },
  {
   "cell_type": "code",
   "execution_count": 36,
   "metadata": {},
   "outputs": [
    {
     "name": "stdout",
     "output_type": "stream",
     "text": [
      "0 record(s) affected\n"
     ]
    }
   ],
   "source": [
    "sql = \"UPDATE inventory SET quantity = %s WHERE name = %s\"\n",
    "val = ('3', 'black wallet')\n",
    "mycursor.execute(sql, val)\n",
    "mydb.commit()\n",
    "\n",
    "print(mycursor.rowcount, \"record(s) affected\")"
   ]
  },
  {
   "cell_type": "markdown",
   "metadata": {},
   "source": [
    "Now we only have 4 items, but lets say I wanted to print all but only see 2 of them."
   ]
  },
  {
   "cell_type": "code",
   "execution_count": 14,
   "metadata": {},
   "outputs": [
    {
     "name": "stdout",
     "output_type": "stream",
     "text": [
      "(1, '100% cotton t-shirt black - L', 1, 'Tees - women', 'www.link1.ob.fake')\n",
      "(2, '100% cotton t-shirt black - M', 1, 'Tees - women', 'www.link2.ob.fake')\n"
     ]
    }
   ],
   "source": [
    "mycursor.execute(\"SELECT * FROM inventory LIMIT 2\")\n",
    "\n",
    "myresult = mycursor.fetchall()\n",
    "\n",
    "for x in myresult:\n",
    "    print(x)"
   ]
  },
  {
   "cell_type": "markdown",
   "metadata": {},
   "source": [
    "Actually I wanted to skip the first one"
   ]
  },
  {
   "cell_type": "code",
   "execution_count": 38,
   "metadata": {},
   "outputs": [
    {
     "name": "stdout",
     "output_type": "stream",
     "text": [
      "(2, '100% cotton t-shirt black - M', 1, 'Tees - women', 'www.link2.ob.fake')\n",
      "(5, 'black wallet', 3, 'Accessory - Wallets and Purrses', 'www.link5.ob.fake')\n"
     ]
    }
   ],
   "source": [
    "mycursor.execute(\"SELECT * FROM inventory LIMIT 2 OFFSET 1\")\n",
    "\n",
    "myresult = mycursor.fetchall()\n",
    "\n",
    "for x in myresult:\n",
    "    print(x)"
   ]
  },
  {
   "cell_type": "markdown",
   "metadata": {},
   "source": [
    "So I want to show JOIN so lets create two example tables, users and products. The Users table will have an ID, name, and that persons favorite product. The Products table will have a SKU and name. The users ID auto increments for each new person, whereas the sku of the product is manually set. "
   ]
  },
  {
   "cell_type": "code",
   "execution_count": 46,
   "metadata": {},
   "outputs": [],
   "source": [
    "#If you screw up just delete both tables here and start again\n",
    "sql = \"DROP TABLE users\"\n",
    "mycursor.execute(sql)\n",
    "sql = \"DROP TABLE products\"\n",
    "mycursor.execute(sql)"
   ]
  },
  {
   "cell_type": "code",
   "execution_count": 47,
   "metadata": {},
   "outputs": [
    {
     "name": "stdout",
     "output_type": "stream",
     "text": [
      "5 was inserted.\n",
      "\n",
      "(1, 'Chen', 154)\n",
      "(2, 'Dave', 153)\n",
      "(3, 'Ekta', 153)\n",
      "(4, 'Alex', 152)\n",
      "(5, 'Sean', 148)\n",
      "\n",
      "4 was inserted.\n",
      "\n",
      "(151, 'apple')\n",
      "(152, 'banana')\n",
      "(153, 'orange')\n",
      "(154, 'pear')\n",
      "\n",
      "('Chen', 'pear')\n",
      "('Dave', 'orange')\n",
      "('Ekta', 'orange')\n",
      "('Alex', 'banana')\n"
     ]
    }
   ],
   "source": [
    "mydb = mysql.connect(\n",
    "  host=\"localhost\",\n",
    "  user=\"root\",\n",
    "  passwd=\"password\",\n",
    "  database=\"storedb\"\n",
    ")\n",
    "mycursor = mydb.cursor()\n",
    "\n",
    "mycursor.execute(\"CREATE TABLE users (id INT AUTO_INCREMENT PRIMARY KEY, name TEXT, fav INTEGER)\")\n",
    "mycursor.execute(\"CREATE TABLE products (sku INTEGER PRIMARY KEY, name TEXT)\")\n",
    "\n",
    "sql = \"INSERT INTO users (name, fav) VALUES (%s, %s)\"\n",
    "val = [(\"Chen\", \"154\"),\n",
    "      (\"Dave\", \"153\"),\n",
    "      (\"Ekta\", \"153\"),\n",
    "      (\"Alex\", \"152\"),\n",
    "      (\"Sean\", \"148\")]\n",
    "mycursor.executemany(sql, val)\n",
    "mydb.commit()\n",
    "\n",
    "print(mycursor.rowcount, \"was inserted.\")\n",
    "print(\"\")\n",
    "\n",
    "mycursor.execute(\"SELECT * FROM users\")\n",
    "myresults = mycursor.fetchall()\n",
    "for x in myresults:\n",
    "    print(x)\n",
    "print(\"\")\n",
    "\n",
    "sql = \"INSERT INTO products (sku, name) VALUES (%s, %s)\"\n",
    "val = [(\"151\", \"apple\"),\n",
    "      (\"152\", \"banana\"),\n",
    "      (\"153\", \"orange\"),\n",
    "      (\"154\", \"pear\")]\n",
    "mycursor.executemany(sql, val)\n",
    "mydb.commit()\n",
    "\n",
    "print(mycursor.rowcount, \"was inserted.\")\n",
    "print(\"\")\n",
    "\n",
    "mycursor.execute(\"SELECT * FROM products\")\n",
    "myresults = mycursor.fetchall()\n",
    "for x in myresults:\n",
    "    print(x)\n",
    "print(\"\")\n",
    "\n",
    "sql = \" SELECT \\\n",
    "    users.name, \\\n",
    "    products.name \\\n",
    "    FROM users \\\n",
    "    JOIN products ON users.fav = products.sku\"\n",
    "\n",
    "mycursor.execute(sql)\n",
    "\n",
    "myresult = mycursor.fetchall()\n",
    "\n",
    "for x in myresult:\n",
    "    print (x)"
   ]
  },
  {
   "cell_type": "markdown",
   "metadata": {},
   "source": [
    "In the output above you'll notice that we can't see Sean, this is because there was no match in products, if we wish to see all users then we have to use LEFT JOIN"
   ]
  },
  {
   "cell_type": "code",
   "execution_count": 48,
   "metadata": {},
   "outputs": [
    {
     "name": "stdout",
     "output_type": "stream",
     "text": [
      "('Alex', 'banana')\n",
      "('Dave', 'orange')\n",
      "('Ekta', 'orange')\n",
      "('Chen', 'pear')\n",
      "('Sean', None)\n"
     ]
    }
   ],
   "source": [
    "sql = \" SELECT \\\n",
    "    users.name, \\\n",
    "    products.name \\\n",
    "    FROM users \\\n",
    "    LEFT JOIN products ON users.fav = products.sku\"\n",
    "\n",
    "mycursor.execute(sql)\n",
    "\n",
    "myresult = mycursor.fetchall()\n",
    "\n",
    "for x in myresult:\n",
    "    print (x)"
   ]
  },
  {
   "cell_type": "markdown",
   "metadata": {},
   "source": [
    "If you want to return all products, and the users who have them as their favorite, even if no user has them as their favorite, use the RIGHT JOIN statement"
   ]
  },
  {
   "cell_type": "code",
   "execution_count": 8,
   "metadata": {},
   "outputs": [
    {
     "name": "stdout",
     "output_type": "stream",
     "text": [
      "('John', 'pear')\n",
      "('Dave', 'orange')\n",
      "('Ekta', 'orange')\n",
      "('Alex', 'banana')\n",
      "(None, 'apple')\n"
     ]
    }
   ],
   "source": [
    "sql = \" SELECT \\\n",
    "    users.name \\\n",
    "    products.name \\\n",
    "    FROM users \\\n",
    "    RIGHT JOIN products ON users.fav = products.sku\"\n",
    "\n",
    "mycursor.execute(sql)\n",
    "\n",
    "myresult = mycursor.fetchall()\n",
    "\n",
    "for x in myresult:\n",
    "    print (x)"
   ]
  },
  {
   "cell_type": "markdown",
   "metadata": {},
   "source": [
    "## Thats it for now, as you can see from the above it is very easy to integrate MySQL and Python. I would suggest now doing a full SQL course and trying to implement it all using the above methods or creating a usable stores inventory GUI frontend and Python/MySQL backend."
   ]
  }
 ],
 "metadata": {
  "kernelspec": {
   "display_name": "Python 3",
   "language": "python",
   "name": "python3"
  },
  "language_info": {
   "codemirror_mode": {
    "name": "ipython",
    "version": 3
   },
   "file_extension": ".py",
   "mimetype": "text/x-python",
   "name": "python",
   "nbconvert_exporter": "python",
   "pygments_lexer": "ipython3",
   "version": "3.6.8"
  }
 },
 "nbformat": 4,
 "nbformat_minor": 2
}
